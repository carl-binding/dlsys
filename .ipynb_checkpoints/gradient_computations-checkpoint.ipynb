{
 "cells": [
  {
   "cell_type": "code",
   "execution_count": 26,
   "id": "f97cbfa9-413c-4797-a32f-a21ecc8cb9e6",
   "metadata": {},
   "outputs": [],
   "source": [
    "import numpy as np"
   ]
  },
  {
   "cell_type": "code",
   "execution_count": 72,
   "id": "70d6db07-2c68-4eef-ba50-351d32e99e82",
   "metadata": {},
   "outputs": [
    {
     "name": "stdout",
     "output_type": "stream",
     "text": [
      "(3,)\n"
     ]
    }
   ],
   "source": [
    "a = np.array([1, 2, 3])\n",
    "print( a.shape)"
   ]
  },
  {
   "cell_type": "code",
   "execution_count": 73,
   "id": "120ee994-0a29-42d7-b310-cc3a33291ace",
   "metadata": {},
   "outputs": [
    {
     "name": "stdout",
     "output_type": "stream",
     "text": [
      "[[1 2 3]\n",
      " [1 2 3]\n",
      " [1 2 3]]\n",
      "(3, 3)\n"
     ]
    }
   ],
   "source": [
    "b = np.broadcast_to( a, (3,3))\n",
    "print( b)\n",
    "print( b.shape)"
   ]
  },
  {
   "cell_type": "code",
   "execution_count": 74,
   "id": "cfafd0e1-7ef4-48d2-918e-d337ace51d83",
   "metadata": {},
   "outputs": [
    {
     "name": "stdout",
     "output_type": "stream",
     "text": [
      "[3 3 3]\n"
     ]
    }
   ],
   "source": [
    "c = b[:,-1]\n",
    "print( c)"
   ]
  },
  {
   "cell_type": "code",
   "execution_count": 53,
   "id": "da07254a-0217-48fc-a91c-219b3e3c8d1f",
   "metadata": {},
   "outputs": [
    {
     "name": "stdout",
     "output_type": "stream",
     "text": [
      "6.0\n"
     ]
    }
   ],
   "source": [
    "d = np.mean( c, axis=0)\n",
    "print( d)"
   ]
  },
  {
   "cell_type": "code",
   "execution_count": 18,
   "id": "3e782ebd-f8b4-49ac-864f-53b14b248ccb",
   "metadata": {},
   "outputs": [
    {
     "name": "stdout",
     "output_type": "stream",
     "text": [
      "[2. 3.]\n"
     ]
    }
   ],
   "source": [
    "a = np.array([[1, 2], [3, 4]])\n",
    "print( np.mean(a, axis=0))"
   ]
  },
  {
   "cell_type": "code",
   "execution_count": 381,
   "id": "ac4d8f1d-2e4e-4ba4-894a-eb418e43a4b5",
   "metadata": {},
   "outputs": [
    {
     "name": "stdout",
     "output_type": "stream",
     "text": [
      "[[-1.45709782]\n",
      " [-0.42757954]\n",
      " [ 0.97437019]]\n",
      "[[-1.45709782 -1.45709782 -1.45709782]\n",
      " [-0.42757954 -0.42757954 -0.42757954]\n",
      " [ 0.97437019  0.97437019  0.97437019]]\n"
     ]
    }
   ],
   "source": [
    "a = np.random.randn(3, 1)\n",
    "print( a)\n",
    "b = np.broadcast_to( a, (3,3))\n",
    "print( b)"
   ]
  },
  {
   "cell_type": "code",
   "execution_count": 382,
   "id": "62ccfa32-a932-4f1d-9b13-c4515951e89d",
   "metadata": {},
   "outputs": [
    {
     "name": "stdout",
     "output_type": "stream",
     "text": [
      "[[[-1.45709782 -1.45709782 -1.45709782]\n",
      "  [-0.42757954 -0.42757954 -0.42757954]\n",
      "  [ 0.97437019  0.97437019  0.97437019]]\n",
      "\n",
      " [[-1.45709782 -1.45709782 -1.45709782]\n",
      "  [-0.42757954 -0.42757954 -0.42757954]\n",
      "  [ 0.97437019  0.97437019  0.97437019]]\n",
      "\n",
      " [[-1.45709782 -1.45709782 -1.45709782]\n",
      "  [-0.42757954 -0.42757954 -0.42757954]\n",
      "  [ 0.97437019  0.97437019  0.97437019]]]\n"
     ]
    }
   ],
   "source": [
    "b = np.broadcast_to( a, (3,3,3))\n",
    "print( b)"
   ]
  },
  {
   "cell_type": "code",
   "execution_count": 75,
   "id": "78b89f35-839f-4223-a86b-d6181eb86f59",
   "metadata": {},
   "outputs": [
    {
     "name": "stdout",
     "output_type": "stream",
     "text": [
      "Reversed Array:\n",
      " [[1.]\n",
      " [2.]\n",
      " [3.]]\n"
     ]
    }
   ],
   "source": [
    "# Original array\n",
    "original = np.array([[1], [2], [3]])  # Shape (3, 1)\n",
    "\n",
    "# Broadcasted array\n",
    "broadcasted = np.broadcast_to(original, (3, 3))  # Shape (3, 3)\n",
    "\n",
    "# Reverse operation by summing over the broadcasted axis\n",
    "reversed_array = np.sum(broadcasted, axis=1, keepdims=True) / broadcasted.shape[1]\n",
    "print(\"Reversed Array:\\n\", reversed_array)  # Shape (3, 1)\n"
   ]
  },
  {
   "cell_type": "code",
   "execution_count": 416,
   "id": "dfac6908-05b4-4437-8997-28017d0e60d0",
   "metadata": {},
   "outputs": [],
   "source": [
    "def gradient_of_broadcast_to(grad_output, original_shape):\n",
    "    \"\"\"\n",
    "    Compute the gradient for a broadcast_to operation during backpropagation.\n",
    "\n",
    "    Parameters:\n",
    "        grad_output (np.ndarray): Gradient of the loss with respect to the broadcasted array.\n",
    "        original_shape (tuple): Shape of the original array before broadcasting.\n",
    "\n",
    "    Returns:\n",
    "        np.ndarray: Gradient of the loss with respect to the original array.\n",
    "    \"\"\"\n",
    "    print( original_shape)\n",
    "    if ( len( original_shape) == 1):\n",
    "        return [ np.sum( grad_output) ]\n",
    "        \n",
    "    # Determine the broadcasted axes\n",
    "    if ( len( original_shape) != len( grad_output.shape)):\n",
    "        raise ValueError( \"mismatching shapes\")\n",
    "    ## we collect the axis which have been broadcast. assuming the original shape was 1...\n",
    "    axes_to_sum = [i for i, (b, o) in enumerate(zip(grad_output.shape, original_shape)) if o == 1]\n",
    "    print( axes_to_sum)\n",
    "    \n",
    "    # Sum over broadcasted axes\n",
    "    grad_input = np.sum(grad_output, axis=tuple(axes_to_sum), keepdims=True)\n",
    "    \n",
    "    # Reshape back to the original shape\n",
    "    return grad_input.reshape(original_shape)"
   ]
  },
  {
   "cell_type": "code",
   "execution_count": 417,
   "id": "6fedf97a-58b1-42ef-a84a-624e24c08bb3",
   "metadata": {},
   "outputs": [
    {
     "name": "stdout",
     "output_type": "stream",
     "text": [
      "(3, 1)\n",
      "[1]\n",
      "Broadcasted:\n",
      " [[-1.17608915 -1.17608915 -1.17608915]\n",
      " [ 0.38782625  0.38782625  0.38782625]\n",
      " [-0.51772851 -0.51772851 -0.51772851]]\n",
      "Reversed Array:\n",
      " [[-3.52826746]\n",
      " [ 1.16347876]\n",
      " [-1.55318554]]\n"
     ]
    }
   ],
   "source": [
    "# Example\n",
    "original = np.random.randn(3, 1)  # Shape (3, 1)\n",
    "broadcasted = np.broadcast_to(original, (3, 3))  # Shape (3, 3)\n",
    "\n",
    "# Reverse\n",
    "reversed_array = gradient_of_broadcast_to(broadcasted, original.shape)\n",
    "print(\"Broadcasted:\\n\", broadcasted)\n",
    "print(\"Reversed Array:\\n\", reversed_array)"
   ]
  },
  {
   "cell_type": "code",
   "execution_count": 418,
   "id": "8765c169-79cd-44c6-ab2a-e8dbd11ec634",
   "metadata": {},
   "outputs": [
    {
     "name": "stdout",
     "output_type": "stream",
     "text": [
      "(1, 3)\n",
      "[0]\n",
      "Broadcasted:\n",
      " [[-1.63659525  0.36919706 -1.68096508]\n",
      " [-1.63659525  0.36919706 -1.68096508]\n",
      " [-1.63659525  0.36919706 -1.68096508]]\n",
      "Reversed Array:\n",
      " [[-4.90978576  1.10759118 -5.04289525]]\n"
     ]
    }
   ],
   "source": [
    "original = np.random.randn(1, 3)  # Shape (1, 3)\n",
    "broadcasted = np.broadcast_to(original, (3, 3))  # Shape (3, 3)\n",
    "\n",
    "# Reverse\n",
    "reversed_array = gradient_of_broadcast_to(broadcasted, original.shape)\n",
    "print(\"Broadcasted:\\n\", broadcasted)\n",
    "print(\"Reversed Array:\\n\", reversed_array)"
   ]
  },
  {
   "cell_type": "code",
   "execution_count": 422,
   "id": "5efab540-4a2f-4088-bc57-7477f20440c1",
   "metadata": {},
   "outputs": [
    {
     "name": "stdout",
     "output_type": "stream",
     "text": [
      "(1,)\n",
      "Original:\n",
      " [-0.58877852]\n",
      "Broadcasted:\n",
      " [[[-0.58877852 -0.58877852 -0.58877852]\n",
      "  [-0.58877852 -0.58877852 -0.58877852]\n",
      "  [-0.58877852 -0.58877852 -0.58877852]]\n",
      "\n",
      " [[-0.58877852 -0.58877852 -0.58877852]\n",
      "  [-0.58877852 -0.58877852 -0.58877852]\n",
      "  [-0.58877852 -0.58877852 -0.58877852]]\n",
      "\n",
      " [[-0.58877852 -0.58877852 -0.58877852]\n",
      "  [-0.58877852 -0.58877852 -0.58877852]\n",
      "  [-0.58877852 -0.58877852 -0.58877852]]]\n",
      "Reversed Array:\n",
      " [-15.897019955661571]\n"
     ]
    }
   ],
   "source": [
    "original = np.random.randn(1,)  # Shape (1, )\n",
    "broadcasted = np.broadcast_to(original, (3, 3, 3))  # Shape (3, 3, 3)\n",
    "\n",
    "# Reverse\n",
    "reversed_array = gradient_of_broadcast_to(broadcasted, original.shape)\n",
    "print(\"Original:\\n\", original)\n",
    "print(\"Broadcasted:\\n\", broadcasted)\n",
    "\n",
    "print(\"Reversed Array:\\n\", reversed_array)"
   ]
  },
  {
   "cell_type": "code",
   "execution_count": null,
   "id": "2e0e792d-5cf0-4105-bf38-bdf866ff1f3d",
   "metadata": {},
   "outputs": [],
   "source": [
    "original = np.random.randn()\n",
    "if ( np.isscalar(original)):\n",
    "    original = np.array([original])\n",
    "print( original)\n",
    "broadcasted = np.broadcast_to(s, (3, 3, 3))  # Shape (3, 3, 3)\n",
    "\n",
    "# Reverse\n",
    "reversed_array = gradient_of_broadcast_to(broadcasted, original.shape)\n",
    "print(\"Original:\\n\", original)\n",
    "print(\"Broadcasted:\\n\", broadcasted)\n",
    "print(\"Reversed Array:\\n\", reversed_array)"
   ]
  },
  {
   "cell_type": "code",
   "execution_count": 435,
   "id": "30d1dbae-e1a1-4444-bc87-a52673423b53",
   "metadata": {},
   "outputs": [
    {
     "name": "stdout",
     "output_type": "stream",
     "text": [
      "[[[ 0.76384899]\n",
      "  [-0.38245104]\n",
      "  [ 1.50120866]\n",
      "  [ 0.54142751]]\n",
      "\n",
      " [[ 0.47968537]\n",
      "  [ 0.02618534]\n",
      "  [-0.71905542]\n",
      "  [ 2.25566328]]\n",
      "\n",
      " [[-0.31420166]\n",
      "  [-0.9262886 ]\n",
      "  [-0.57175525]\n",
      "  [-0.12369266]]\n",
      "\n",
      " [[ 0.7672116 ]\n",
      "  [ 0.24611699]\n",
      "  [ 0.21535203]\n",
      "  [-1.88836109]]\n",
      "\n",
      " [[-0.93354901]\n",
      "  [ 1.36224557]\n",
      "  [-1.72469455]\n",
      "  [ 0.27150522]]]\n",
      "(5, 4, 1)\n",
      "[2]\n",
      "Original:\n",
      " [[[ 0.76384899]\n",
      "  [-0.38245104]\n",
      "  [ 1.50120866]\n",
      "  [ 0.54142751]]\n",
      "\n",
      " [[ 0.47968537]\n",
      "  [ 0.02618534]\n",
      "  [-0.71905542]\n",
      "  [ 2.25566328]]\n",
      "\n",
      " [[-0.31420166]\n",
      "  [-0.9262886 ]\n",
      "  [-0.57175525]\n",
      "  [-0.12369266]]\n",
      "\n",
      " [[ 0.7672116 ]\n",
      "  [ 0.24611699]\n",
      "  [ 0.21535203]\n",
      "  [-1.88836109]]\n",
      "\n",
      " [[-0.93354901]\n",
      "  [ 1.36224557]\n",
      "  [-1.72469455]\n",
      "  [ 0.27150522]]]\n",
      "Broadcasted:\n",
      " [[[1.17013176 1.17013176 1.17013176]\n",
      "  [1.17013176 1.17013176 1.17013176]\n",
      "  [1.17013176 1.17013176 1.17013176]\n",
      "  [1.17013176 1.17013176 1.17013176]]\n",
      "\n",
      " [[1.17013176 1.17013176 1.17013176]\n",
      "  [1.17013176 1.17013176 1.17013176]\n",
      "  [1.17013176 1.17013176 1.17013176]\n",
      "  [1.17013176 1.17013176 1.17013176]]\n",
      "\n",
      " [[1.17013176 1.17013176 1.17013176]\n",
      "  [1.17013176 1.17013176 1.17013176]\n",
      "  [1.17013176 1.17013176 1.17013176]\n",
      "  [1.17013176 1.17013176 1.17013176]]\n",
      "\n",
      " [[1.17013176 1.17013176 1.17013176]\n",
      "  [1.17013176 1.17013176 1.17013176]\n",
      "  [1.17013176 1.17013176 1.17013176]\n",
      "  [1.17013176 1.17013176 1.17013176]]\n",
      "\n",
      " [[1.17013176 1.17013176 1.17013176]\n",
      "  [1.17013176 1.17013176 1.17013176]\n",
      "  [1.17013176 1.17013176 1.17013176]\n",
      "  [1.17013176 1.17013176 1.17013176]]]\n",
      "Reversed Array:\n",
      " [[[3.51039527]\n",
      "  [3.51039527]\n",
      "  [3.51039527]\n",
      "  [3.51039527]]\n",
      "\n",
      " [[3.51039527]\n",
      "  [3.51039527]\n",
      "  [3.51039527]\n",
      "  [3.51039527]]\n",
      "\n",
      " [[3.51039527]\n",
      "  [3.51039527]\n",
      "  [3.51039527]\n",
      "  [3.51039527]]\n",
      "\n",
      " [[3.51039527]\n",
      "  [3.51039527]\n",
      "  [3.51039527]\n",
      "  [3.51039527]]\n",
      "\n",
      " [[3.51039527]\n",
      "  [3.51039527]\n",
      "  [3.51039527]\n",
      "  [3.51039527]]]\n"
     ]
    }
   ],
   "source": [
    "original = np.random.randn(5, 4, 1)\n",
    "if ( np.isscalar(original)):\n",
    "    original = np.array([original])\n",
    "print( original)\n",
    "broadcasted = np.broadcast_to(s, (5, 4, 3)) \n",
    "\n",
    "# Reverse\n",
    "reversed_array = gradient_of_broadcast_to(broadcasted, original.shape)\n",
    "print(\"Original:\\n\", original)\n",
    "print(\"Broadcasted:\\n\", broadcasted)\n",
    "print(\"Reversed Array:\\n\", reversed_array)"
   ]
  },
  {
   "cell_type": "code",
   "execution_count": null,
   "id": "f314fa9a-1a9b-4b98-b2e5-5c3a606d09bb",
   "metadata": {},
   "outputs": [],
   "source": [
    "gradient_check(ndl.broadcast_to, ndl.Tensor(np.random.randn(3, 1)), shape=(3, 3))\n",
    "    gradient_check(ndl.broadcast_to, ndl.Tensor(np.random.randn(1, 3)), shape=(3, 3))\n",
    "    gradient_check(\n",
    "        ndl.broadcast_to,\n",
    "        ndl.Tensor(\n",
    "            np.random.randn(\n",
    "                1,\n",
    "            )\n",
    "        ),\n",
    "        shape=(3, 3, 3),\n",
    "    )\n",
    "    gradient_check(ndl.broadcast_to, ndl.Tensor(np.random.randn()), shape=(3, 3, 3))\n",
    "    gradient_check(\n",
    "        ndl.broadcast_to, ndl.Tensor(np.random.randn(5, 4, 1)), shape=(5, 4, 3)\n",
    "    )"
   ]
  },
  {
   "cell_type": "code",
   "execution_count": 452,
   "id": "f848916e-e595-49d6-bc8d-1943f622e33d",
   "metadata": {},
   "outputs": [
    {
     "name": "stdout",
     "output_type": "stream",
     "text": [
      "(2, 1)\n",
      "(2, 2)\n",
      "Gradient w.r.t. Input Array:\n",
      " [[1 1]\n",
      " [2 2]]\n"
     ]
    }
   ],
   "source": [
    "import numpy as np\n",
    "\n",
    "def gradient_summation(grad_output, input_shape, axis=None, keepdims=False):\n",
    "    \"\"\"\n",
    "    Computes the gradient for a summation operation in backpropagation.\n",
    "\n",
    "    Parameters:\n",
    "        grad_output (np.ndarray): Gradient of the loss with respect to the summation result.\n",
    "        input_shape (tuple): Shape of the original input to the summation operation.\n",
    "        axis (int or tuple of ints, optional): Axis or axes along which the summation was performed.\n",
    "        keepdims (bool, optional): Whether the summation kept the reduced dimensions.\n",
    "\n",
    "    Returns:\n",
    "        np.ndarray: Gradient of the loss with respect to the input array.\n",
    "    \"\"\"\n",
    "    # If keepdims=False, expand dimensions of grad_output to match input_shape\n",
    "    if not keepdims:\n",
    "        grad_output = np.expand_dims(grad_output, axis=axis)\n",
    "\n",
    "    # Broadcast grad_output to the input shape\n",
    "    print( grad_output.shape)\n",
    "    print( input_shape)\n",
    "    grad_input = np.broadcast_to(grad_output, input_shape)\n",
    "\n",
    "    return grad_input\n",
    "\n",
    "# Example\n",
    "x = np.array([[1, 2], [3, 4]])  # Shape (2, 2)\n",
    "\n",
    "# Forward summation\n",
    "y = np.sum(x, axis=1, keepdims=False)  # Shape (2,)\n",
    "\n",
    "# Gradient of the loss w.r.t. y\n",
    "grad_output = np.array([1, 2])  # Shape (2,)\n",
    "\n",
    "# Backward: Compute gradient w.r.t. x\n",
    "grad_input = gradient_summation(grad_output, input_shape=x.shape, axis=1, keepdims=False)\n",
    "print(\"Gradient w.r.t. Input Array:\\n\", grad_input)\n"
   ]
  },
  {
   "cell_type": "code",
   "execution_count": 453,
   "id": "0b8aab6c-c0ad-4c06-992b-3c1edb8aa7d5",
   "metadata": {},
   "outputs": [],
   "source": [
    "def test_summation_backward():\n",
    "    gradient_check(ndl.summation, ndl.Tensor(np.random.randn(5, 4)), axes=(1,))\n",
    "    gradient_check(ndl.summation, ndl.Tensor(np.random.randn(5, 4)), axes=(0,))\n",
    "    gradient_check(ndl.summation, ndl.Tensor(np.random.randn(5, 4)), axes=(0, 1))\n",
    "    gradient_check(ndl.summation, ndl.Tensor(np.random.randn(5, 4, 1)), axes=(0, 1))"
   ]
  },
  {
   "cell_type": "code",
   "execution_count": 454,
   "id": "9ba5a35a-fd54-49cd-8b4f-77b920fdae68",
   "metadata": {},
   "outputs": [
    {
     "name": "stdout",
     "output_type": "stream",
     "text": [
      "(2, 1)\n",
      "(2, 2)\n",
      "Gradient w.r.t. Input Array:\n",
      " [[1 1]\n",
      " [2 2]]\n"
     ]
    }
   ],
   "source": [
    "# Example\n",
    "x = np.array( np.random.randn(2, 2))  # Shape (2, 2)\n",
    "\n",
    "# Forward summation\n",
    "y = np.sum(x, axis=1, keepdims=False)  # Shape (2,)\n",
    "\n",
    "# Gradient of the loss w.r.t. y\n",
    "grad_output = np.array([1, 2])  # Shape (2,)\n",
    "\n",
    "# Backward: Compute gradient w.r.t. x\n",
    "grad_input = gradient_summation(grad_output, input_shape=x.shape, axis=1, keepdims=False)\n",
    "print(\"Gradient w.r.t. Input Array:\\n\", grad_input)"
   ]
  },
  {
   "cell_type": "code",
   "execution_count": 459,
   "id": "69c3b11d-0d88-49c4-9237-0ca0f70b14a5",
   "metadata": {},
   "outputs": [
    {
     "name": "stdout",
     "output_type": "stream",
     "text": [
      "(2,)\n",
      "(1, 2)\n",
      "(2, 2)\n",
      "Gradient w.r.t. Input Array:\n",
      " [[1 2]\n",
      " [1 2]]\n"
     ]
    }
   ],
   "source": [
    "# Example\n",
    "x = np.array( np.random.randn(2, 2))  # Shape (2, 2)\n",
    "\n",
    "# Forward summation\n",
    "y = np.sum(x, axis=1, keepdims=False)  # Shape (2,)\n",
    "print( y.shape)\n",
    "\n",
    "# Gradient of the loss w.r.t. y\n",
    "grad_output = np.array([1, 2])  # Shape (2,)\n",
    "\n",
    "# Backward: Compute gradient w.r.t. x\n",
    "grad_input = gradient_summation(grad_output, input_shape=x.shape, axis=0, keepdims=False)\n",
    "print(\"Gradient w.r.t. Input Array:\\n\", grad_input)"
   ]
  },
  {
   "cell_type": "code",
   "execution_count": 462,
   "id": "942b5880-17b6-41ac-a1b4-4bd0768f5e9d",
   "metadata": {},
   "outputs": [
    {
     "name": "stdout",
     "output_type": "stream",
     "text": [
      "(1, 1, 5, 4)\n",
      "(5, 4)\n"
     ]
    },
    {
     "ename": "ValueError",
     "evalue": "input operand has more dimensions than allowed by the axis remapping",
     "output_type": "error",
     "traceback": [
      "\u001b[0;31m---------------------------------------------------------------------------\u001b[0m",
      "\u001b[0;31mValueError\u001b[0m                                Traceback (most recent call last)",
      "Cell \u001b[0;32mIn[462], line 11\u001b[0m\n\u001b[1;32m      8\u001b[0m grad_output \u001b[38;5;241m=\u001b[39m np\u001b[38;5;241m.\u001b[39marray( np\u001b[38;5;241m.\u001b[39mrandom\u001b[38;5;241m.\u001b[39mrandn(\u001b[38;5;241m5\u001b[39m, \u001b[38;5;241m4\u001b[39m))\n\u001b[1;32m     10\u001b[0m \u001b[38;5;66;03m# Backward: Compute gradient w.r.t. x\u001b[39;00m\n\u001b[0;32m---> 11\u001b[0m grad_input \u001b[38;5;241m=\u001b[39m gradient_summation(grad_output, input_shape\u001b[38;5;241m=\u001b[39mx\u001b[38;5;241m.\u001b[39mshape, axis\u001b[38;5;241m=\u001b[39m\u001b[38;5;28mtuple\u001b[39m((\u001b[38;5;241m0\u001b[39m,\u001b[38;5;241m1\u001b[39m)), keepdims\u001b[38;5;241m=\u001b[39m\u001b[38;5;28;01mFalse\u001b[39;00m)\n\u001b[1;32m     12\u001b[0m \u001b[38;5;28mprint\u001b[39m(\u001b[38;5;124m\"\u001b[39m\u001b[38;5;124mGradient w.r.t. Input Array:\u001b[39m\u001b[38;5;130;01m\\n\u001b[39;00m\u001b[38;5;124m\"\u001b[39m, grad_input)\n",
      "Cell \u001b[0;32mIn[452], line 23\u001b[0m, in \u001b[0;36mgradient_summation\u001b[0;34m(grad_output, input_shape, axis, keepdims)\u001b[0m\n\u001b[1;32m     21\u001b[0m \u001b[38;5;28mprint\u001b[39m( grad_output\u001b[38;5;241m.\u001b[39mshape)\n\u001b[1;32m     22\u001b[0m \u001b[38;5;28mprint\u001b[39m( input_shape)\n\u001b[0;32m---> 23\u001b[0m grad_input \u001b[38;5;241m=\u001b[39m np\u001b[38;5;241m.\u001b[39mbroadcast_to(grad_output, input_shape)\n\u001b[1;32m     25\u001b[0m \u001b[38;5;28;01mreturn\u001b[39;00m grad_input\n",
      "File \u001b[0;32m~/anaconda3/lib/python3.11/site-packages/numpy/lib/stride_tricks.py:413\u001b[0m, in \u001b[0;36mbroadcast_to\u001b[0;34m(array, shape, subok)\u001b[0m\n\u001b[1;32m    367\u001b[0m \u001b[38;5;129m@array_function_dispatch\u001b[39m(_broadcast_to_dispatcher, module\u001b[38;5;241m=\u001b[39m\u001b[38;5;124m'\u001b[39m\u001b[38;5;124mnumpy\u001b[39m\u001b[38;5;124m'\u001b[39m)\n\u001b[1;32m    368\u001b[0m \u001b[38;5;28;01mdef\u001b[39;00m \u001b[38;5;21mbroadcast_to\u001b[39m(array, shape, subok\u001b[38;5;241m=\u001b[39m\u001b[38;5;28;01mFalse\u001b[39;00m):\n\u001b[1;32m    369\u001b[0m \u001b[38;5;250m    \u001b[39m\u001b[38;5;124;03m\"\"\"Broadcast an array to a new shape.\u001b[39;00m\n\u001b[1;32m    370\u001b[0m \n\u001b[1;32m    371\u001b[0m \u001b[38;5;124;03m    Parameters\u001b[39;00m\n\u001b[0;32m   (...)\u001b[0m\n\u001b[1;32m    411\u001b[0m \u001b[38;5;124;03m           [1, 2, 3]])\u001b[39;00m\n\u001b[1;32m    412\u001b[0m \u001b[38;5;124;03m    \"\"\"\u001b[39;00m\n\u001b[0;32m--> 413\u001b[0m     \u001b[38;5;28;01mreturn\u001b[39;00m _broadcast_to(array, shape, subok\u001b[38;5;241m=\u001b[39msubok, readonly\u001b[38;5;241m=\u001b[39m\u001b[38;5;28;01mTrue\u001b[39;00m)\n",
      "File \u001b[0;32m~/anaconda3/lib/python3.11/site-packages/numpy/lib/stride_tricks.py:349\u001b[0m, in \u001b[0;36m_broadcast_to\u001b[0;34m(array, shape, subok, readonly)\u001b[0m\n\u001b[1;32m    346\u001b[0m     \u001b[38;5;28;01mraise\u001b[39;00m \u001b[38;5;167;01mValueError\u001b[39;00m(\u001b[38;5;124m'\u001b[39m\u001b[38;5;124mall elements of broadcast shape must be non-\u001b[39m\u001b[38;5;124m'\u001b[39m\n\u001b[1;32m    347\u001b[0m                      \u001b[38;5;124m'\u001b[39m\u001b[38;5;124mnegative\u001b[39m\u001b[38;5;124m'\u001b[39m)\n\u001b[1;32m    348\u001b[0m extras \u001b[38;5;241m=\u001b[39m []\n\u001b[0;32m--> 349\u001b[0m it \u001b[38;5;241m=\u001b[39m np\u001b[38;5;241m.\u001b[39mnditer(\n\u001b[1;32m    350\u001b[0m     (array,), flags\u001b[38;5;241m=\u001b[39m[\u001b[38;5;124m'\u001b[39m\u001b[38;5;124mmulti_index\u001b[39m\u001b[38;5;124m'\u001b[39m, \u001b[38;5;124m'\u001b[39m\u001b[38;5;124mrefs_ok\u001b[39m\u001b[38;5;124m'\u001b[39m, \u001b[38;5;124m'\u001b[39m\u001b[38;5;124mzerosize_ok\u001b[39m\u001b[38;5;124m'\u001b[39m] \u001b[38;5;241m+\u001b[39m extras,\n\u001b[1;32m    351\u001b[0m     op_flags\u001b[38;5;241m=\u001b[39m[\u001b[38;5;124m'\u001b[39m\u001b[38;5;124mreadonly\u001b[39m\u001b[38;5;124m'\u001b[39m], itershape\u001b[38;5;241m=\u001b[39mshape, order\u001b[38;5;241m=\u001b[39m\u001b[38;5;124m'\u001b[39m\u001b[38;5;124mC\u001b[39m\u001b[38;5;124m'\u001b[39m)\n\u001b[1;32m    352\u001b[0m \u001b[38;5;28;01mwith\u001b[39;00m it:\n\u001b[1;32m    353\u001b[0m     \u001b[38;5;66;03m# never really has writebackifcopy semantics\u001b[39;00m\n\u001b[1;32m    354\u001b[0m     broadcast \u001b[38;5;241m=\u001b[39m it\u001b[38;5;241m.\u001b[39mitviews[\u001b[38;5;241m0\u001b[39m]\n",
      "\u001b[0;31mValueError\u001b[0m: input operand has more dimensions than allowed by the axis remapping"
     ]
    }
   ],
   "source": [
    "# Example\n",
    "x = np.array( np.random.randn(5, 4))  # Shape (2, 2)\n",
    "\n",
    "# Forward summation\n",
    "y = np.sum(x, axis=tuple((0,1)), keepdims=False)  # Shape (2,)\n",
    "\n",
    "# Gradient of the loss w.r.t. y\n",
    "grad_output = np.array( np.random.randn(5, 4))\n",
    "\n",
    "# Backward: Compute gradient w.r.t. x\n",
    "grad_input = gradient_summation(grad_output, input_shape=x.shape, axis=tuple((0,1)), keepdims=False)\n",
    "print(\"Gradient w.r.t. Input Array:\\n\", grad_input)"
   ]
  },
  {
   "cell_type": "code",
   "execution_count": null,
   "id": "dcb609c7-127f-4c40-bff0-bdb0091d49f0",
   "metadata": {},
   "outputs": [],
   "source": []
  }
 ],
 "metadata": {
  "kernelspec": {
   "display_name": "Python 3",
   "language": "python",
   "name": "python3"
  },
  "language_info": {
   "codemirror_mode": {
    "name": "ipython",
    "version": 3
   },
   "file_extension": ".py",
   "mimetype": "text/x-python",
   "name": "python",
   "nbconvert_exporter": "python",
   "pygments_lexer": "ipython3",
   "version": "3.11.5"
  }
 },
 "nbformat": 4,
 "nbformat_minor": 5
}
