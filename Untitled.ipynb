{
 "cells": [
  {
   "cell_type": "code",
   "execution_count": null,
   "id": "5c5ae26c-bc3a-4132-95d4-8796050b1940",
   "metadata": {},
   "outputs": [],
   "source": []
  }
 ],
 "metadata": {
  "kernelspec": {
   "display_name": "",
   "name": ""
  },
  "language_info": {
   "name": ""
  }
 },
 "nbformat": 4,
 "nbformat_minor": 5
}
