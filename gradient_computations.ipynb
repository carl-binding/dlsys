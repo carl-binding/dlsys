{
 "cells": [
  {
   "cell_type": "code",
   "execution_count": 1,
   "id": "f97cbfa9-413c-4797-a32f-a21ecc8cb9e6",
   "metadata": {},
   "outputs": [],
   "source": [
    "import numpy as np"
   ]
  },
  {
   "cell_type": "code",
   "execution_count": 2,
   "id": "70d6db07-2c68-4eef-ba50-351d32e99e82",
   "metadata": {},
   "outputs": [
    {
     "name": "stdout",
     "output_type": "stream",
     "text": [
      "(3,)\n"
     ]
    }
   ],
   "source": [
    "a = np.array([1, 2, 3])\n",
    "print( a.shape)"
   ]
  },
  {
   "cell_type": "code",
   "execution_count": 3,
   "id": "120ee994-0a29-42d7-b310-cc3a33291ace",
   "metadata": {},
   "outputs": [
    {
     "name": "stdout",
     "output_type": "stream",
     "text": [
      "[[1 2 3]\n",
      " [1 2 3]\n",
      " [1 2 3]]\n",
      "(3, 3)\n"
     ]
    }
   ],
   "source": [
    "b = np.broadcast_to( a, (3,3))\n",
    "print( b)\n",
    "print( b.shape)"
   ]
  },
  {
   "cell_type": "code",
   "execution_count": 4,
   "id": "cfafd0e1-7ef4-48d2-918e-d337ace51d83",
   "metadata": {},
   "outputs": [
    {
     "name": "stdout",
     "output_type": "stream",
     "text": [
      "[3 3 3]\n"
     ]
    }
   ],
   "source": [
    "c = b[:,-1]\n",
    "print( c)"
   ]
  },
  {
   "cell_type": "code",
   "execution_count": 5,
   "id": "da07254a-0217-48fc-a91c-219b3e3c8d1f",
   "metadata": {},
   "outputs": [
    {
     "name": "stdout",
     "output_type": "stream",
     "text": [
      "3.0\n"
     ]
    }
   ],
   "source": [
    "d = np.mean( c, axis=0)\n",
    "print( d)"
   ]
  },
  {
   "cell_type": "code",
   "execution_count": 6,
   "id": "3e782ebd-f8b4-49ac-864f-53b14b248ccb",
   "metadata": {},
   "outputs": [
    {
     "name": "stdout",
     "output_type": "stream",
     "text": [
      "[2. 3.]\n"
     ]
    }
   ],
   "source": [
    "a = np.array([[1, 2], [3, 4]])\n",
    "print( np.mean(a, axis=0))"
   ]
  },
  {
   "cell_type": "code",
   "execution_count": 7,
   "id": "ac4d8f1d-2e4e-4ba4-894a-eb418e43a4b5",
   "metadata": {},
   "outputs": [
    {
     "name": "stdout",
     "output_type": "stream",
     "text": [
      "[[ 0.34720547]\n",
      " [ 1.23596384]\n",
      " [-1.46726515]]\n",
      "[[ 0.34720547  0.34720547  0.34720547]\n",
      " [ 1.23596384  1.23596384  1.23596384]\n",
      " [-1.46726515 -1.46726515 -1.46726515]]\n"
     ]
    }
   ],
   "source": [
    "a = np.random.randn(3, 1)\n",
    "print( a)\n",
    "b = np.broadcast_to( a, (3,3))\n",
    "print( b)"
   ]
  },
  {
   "cell_type": "code",
   "execution_count": 8,
   "id": "62ccfa32-a932-4f1d-9b13-c4515951e89d",
   "metadata": {},
   "outputs": [
    {
     "name": "stdout",
     "output_type": "stream",
     "text": [
      "[[[ 0.34720547  0.34720547  0.34720547]\n",
      "  [ 1.23596384  1.23596384  1.23596384]\n",
      "  [-1.46726515 -1.46726515 -1.46726515]]\n",
      "\n",
      " [[ 0.34720547  0.34720547  0.34720547]\n",
      "  [ 1.23596384  1.23596384  1.23596384]\n",
      "  [-1.46726515 -1.46726515 -1.46726515]]\n",
      "\n",
      " [[ 0.34720547  0.34720547  0.34720547]\n",
      "  [ 1.23596384  1.23596384  1.23596384]\n",
      "  [-1.46726515 -1.46726515 -1.46726515]]]\n"
     ]
    }
   ],
   "source": [
    "b = np.broadcast_to( a, (3,3,3))\n",
    "print( b)"
   ]
  },
  {
   "cell_type": "code",
   "execution_count": 9,
   "id": "78b89f35-839f-4223-a86b-d6181eb86f59",
   "metadata": {},
   "outputs": [
    {
     "name": "stdout",
     "output_type": "stream",
     "text": [
      "Reversed Array:\n",
      " [[1.]\n",
      " [2.]\n",
      " [3.]]\n"
     ]
    }
   ],
   "source": [
    "# Original array\n",
    "original = np.array([[1], [2], [3]])  # Shape (3, 1)\n",
    "\n",
    "# Broadcasted array\n",
    "broadcasted = np.broadcast_to(original, (3, 3))  # Shape (3, 3)\n",
    "\n",
    "# Reverse operation by summing over the broadcasted axis\n",
    "reversed_array = np.sum(broadcasted, axis=1, keepdims=True) / broadcasted.shape[1]\n",
    "print(\"Reversed Array:\\n\", reversed_array)  # Shape (3, 1)\n"
   ]
  },
  {
   "cell_type": "code",
   "execution_count": 12,
   "id": "dfac6908-05b4-4437-8997-28017d0e60d0",
   "metadata": {},
   "outputs": [],
   "source": [
    "def gradient_of_broadcast_to(grad_output, original_shape):\n",
    "    \"\"\"\n",
    "    Compute the gradient for a broadcast_to operation during backpropagation.\n",
    "\n",
    "    Parameters:\n",
    "        grad_output (np.ndarray): Gradient of the loss with respect to the broadcasted array.\n",
    "        original_shape (tuple): Shape of the original array before broadcasting.\n",
    "\n",
    "    Returns:\n",
    "        np.ndarray: Gradient of the loss with respect to the original array.\n",
    "    \"\"\"\n",
    "    print( original_shape)\n",
    "    if ( len( original_shape) == 1):\n",
    "        return [ np.sum( grad_output) ]\n",
    "        \n",
    "    # Determine the broadcasted axes\n",
    "    if ( len( original_shape) != len( grad_output.shape)):\n",
    "        raise ValueError( \"mismatching shapes\")\n",
    "    ## we collect the axis which have been broadcast. assuming the original shape was 1...\n",
    "    axes_to_sum = [i for i, (b, o) in enumerate(zip(grad_output.shape, original_shape)) if o == 1]\n",
    "    print( \"axes_to_sum: \", axes_to_sum)\n",
    "    \n",
    "    # Sum over broadcasted axes\n",
    "    grad_input = np.sum(grad_output, axis=tuple(axes_to_sum), keepdims=True)\n",
    "    \n",
    "    # Reshape back to the original shape\n",
    "    return grad_input.reshape(original_shape)"
   ]
  },
  {
   "cell_type": "code",
   "execution_count": 13,
   "id": "6fedf97a-58b1-42ef-a84a-624e24c08bb3",
   "metadata": {},
   "outputs": [
    {
     "name": "stdout",
     "output_type": "stream",
     "text": [
      "(3, 1)\n",
      "axes_to_sum:  [1]\n",
      "Broadcasted:\n",
      " [[-0.52321083 -0.52321083 -0.52321083]\n",
      " [-0.63144289 -0.63144289 -0.63144289]\n",
      " [ 0.16874324  0.16874324  0.16874324]]\n",
      "Reversed Array:\n",
      " [[-1.5696325 ]\n",
      " [-1.89432868]\n",
      " [ 0.50622971]]\n"
     ]
    }
   ],
   "source": [
    "# Example\n",
    "original = np.random.randn(3, 1)  # Shape (3, 1)\n",
    "broadcasted = np.broadcast_to(original, (3, 3))  # Shape (3, 3)\n",
    "\n",
    "# Reverse\n",
    "reversed_array = gradient_of_broadcast_to(broadcasted, original.shape)\n",
    "print(\"Broadcasted:\\n\", broadcasted)\n",
    "print(\"Reversed Array:\\n\", reversed_array)"
   ]
  },
  {
   "cell_type": "code",
   "execution_count": 14,
   "id": "8765c169-79cd-44c6-ab2a-e8dbd11ec634",
   "metadata": {},
   "outputs": [
    {
     "name": "stdout",
     "output_type": "stream",
     "text": [
      "(1, 3)\n",
      "axes_to_sum:  [0]\n",
      "Broadcasted:\n",
      " [[ 1.1792175  -0.5239145  -0.26382784]\n",
      " [ 1.1792175  -0.5239145  -0.26382784]\n",
      " [ 1.1792175  -0.5239145  -0.26382784]]\n",
      "Reversed Array:\n",
      " [[ 3.53765251 -1.57174349 -0.79148352]]\n"
     ]
    }
   ],
   "source": [
    "original = np.random.randn(1, 3)  # Shape (1, 3)\n",
    "broadcasted = np.broadcast_to(original, (3, 3))  # Shape (3, 3)\n",
    "\n",
    "# Reverse\n",
    "reversed_array = gradient_of_broadcast_to(broadcasted, original.shape)\n",
    "print(\"Broadcasted:\\n\", broadcasted)\n",
    "print(\"Reversed Array:\\n\", reversed_array)"
   ]
  },
  {
   "cell_type": "code",
   "execution_count": 15,
   "id": "5efab540-4a2f-4088-bc57-7477f20440c1",
   "metadata": {},
   "outputs": [
    {
     "name": "stdout",
     "output_type": "stream",
     "text": [
      "(1,)\n",
      "Original:\n",
      " [-1.74602477]\n",
      "Broadcasted:\n",
      " [[[-1.74602477 -1.74602477 -1.74602477]\n",
      "  [-1.74602477 -1.74602477 -1.74602477]\n",
      "  [-1.74602477 -1.74602477 -1.74602477]]\n",
      "\n",
      " [[-1.74602477 -1.74602477 -1.74602477]\n",
      "  [-1.74602477 -1.74602477 -1.74602477]\n",
      "  [-1.74602477 -1.74602477 -1.74602477]]\n",
      "\n",
      " [[-1.74602477 -1.74602477 -1.74602477]\n",
      "  [-1.74602477 -1.74602477 -1.74602477]\n",
      "  [-1.74602477 -1.74602477 -1.74602477]]]\n",
      "Reversed Array:\n",
      " [-47.14266876642027]\n"
     ]
    }
   ],
   "source": [
    "original = np.random.randn(1,)  # Shape (1, )\n",
    "broadcasted = np.broadcast_to(original, (3, 3, 3))  # Shape (3, 3, 3)\n",
    "\n",
    "# Reverse\n",
    "reversed_array = gradient_of_broadcast_to(broadcasted, original.shape)\n",
    "print(\"Original:\\n\", original)\n",
    "print(\"Broadcasted:\\n\", broadcasted)\n",
    "\n",
    "print(\"Reversed Array:\\n\", reversed_array)"
   ]
  },
  {
   "cell_type": "code",
   "execution_count": 17,
   "id": "2e0e792d-5cf0-4105-bf38-bdf866ff1f3d",
   "metadata": {},
   "outputs": [
    {
     "name": "stdout",
     "output_type": "stream",
     "text": [
      "[-0.42524255]\n",
      "(1,)\n",
      "Original:\n",
      " [-0.42524255]\n",
      "Broadcasted:\n",
      " [[[-0.42524255 -0.42524255 -0.42524255]\n",
      "  [-0.42524255 -0.42524255 -0.42524255]\n",
      "  [-0.42524255 -0.42524255 -0.42524255]]\n",
      "\n",
      " [[-0.42524255 -0.42524255 -0.42524255]\n",
      "  [-0.42524255 -0.42524255 -0.42524255]\n",
      "  [-0.42524255 -0.42524255 -0.42524255]]\n",
      "\n",
      " [[-0.42524255 -0.42524255 -0.42524255]\n",
      "  [-0.42524255 -0.42524255 -0.42524255]\n",
      "  [-0.42524255 -0.42524255 -0.42524255]]]\n",
      "Reversed Array:\n",
      " [-11.481548970904843]\n"
     ]
    }
   ],
   "source": [
    "original = np.random.randn()\n",
    "if ( np.isscalar(original)):\n",
    "    original = np.array([original])\n",
    "print( original)\n",
    "broadcasted = np.broadcast_to(original, (3, 3, 3))  # Shape (3, 3, 3)\n",
    "\n",
    "# Reverse\n",
    "reversed_array = gradient_of_broadcast_to(broadcasted, original.shape)\n",
    "print(\"Original:\\n\", original)\n",
    "print(\"Broadcasted:\\n\", broadcasted)\n",
    "print(\"Reversed Array:\\n\", reversed_array)"
   ]
  },
  {
   "cell_type": "code",
   "execution_count": 19,
   "id": "30d1dbae-e1a1-4444-bc87-a52673423b53",
   "metadata": {},
   "outputs": [
    {
     "name": "stdout",
     "output_type": "stream",
     "text": [
      "[[[ 0.29877084]\n",
      "  [-0.71388179]\n",
      "  [-1.66295128]\n",
      "  [ 0.06550301]]\n",
      "\n",
      " [[ 0.74284454]\n",
      "  [ 1.13423424]\n",
      "  [-1.08209977]\n",
      "  [ 0.16671111]]\n",
      "\n",
      " [[ 0.8324051 ]\n",
      "  [-0.22584753]\n",
      "  [-0.48674743]\n",
      "  [-1.44401173]]\n",
      "\n",
      " [[-0.45811331]\n",
      "  [-1.7979243 ]\n",
      "  [ 0.8949623 ]\n",
      "  [-0.91325746]]\n",
      "\n",
      " [[ 1.00697804]\n",
      "  [ 1.19306357]\n",
      "  [-0.90621837]\n",
      "  [ 0.9132823 ]]]\n",
      "(5, 4, 1)\n",
      "axes_to_sum:  [2]\n",
      "Original:\n",
      " [[[ 0.29877084]\n",
      "  [-0.71388179]\n",
      "  [-1.66295128]\n",
      "  [ 0.06550301]]\n",
      "\n",
      " [[ 0.74284454]\n",
      "  [ 1.13423424]\n",
      "  [-1.08209977]\n",
      "  [ 0.16671111]]\n",
      "\n",
      " [[ 0.8324051 ]\n",
      "  [-0.22584753]\n",
      "  [-0.48674743]\n",
      "  [-1.44401173]]\n",
      "\n",
      " [[-0.45811331]\n",
      "  [-1.7979243 ]\n",
      "  [ 0.8949623 ]\n",
      "  [-0.91325746]]\n",
      "\n",
      " [[ 1.00697804]\n",
      "  [ 1.19306357]\n",
      "  [-0.90621837]\n",
      "  [ 0.9132823 ]]]\n",
      "Broadcasted:\n",
      " [[[ 0.29877084  0.29877084  0.29877084]\n",
      "  [-0.71388179 -0.71388179 -0.71388179]\n",
      "  [-1.66295128 -1.66295128 -1.66295128]\n",
      "  [ 0.06550301  0.06550301  0.06550301]]\n",
      "\n",
      " [[ 0.74284454  0.74284454  0.74284454]\n",
      "  [ 1.13423424  1.13423424  1.13423424]\n",
      "  [-1.08209977 -1.08209977 -1.08209977]\n",
      "  [ 0.16671111  0.16671111  0.16671111]]\n",
      "\n",
      " [[ 0.8324051   0.8324051   0.8324051 ]\n",
      "  [-0.22584753 -0.22584753 -0.22584753]\n",
      "  [-0.48674743 -0.48674743 -0.48674743]\n",
      "  [-1.44401173 -1.44401173 -1.44401173]]\n",
      "\n",
      " [[-0.45811331 -0.45811331 -0.45811331]\n",
      "  [-1.7979243  -1.7979243  -1.7979243 ]\n",
      "  [ 0.8949623   0.8949623   0.8949623 ]\n",
      "  [-0.91325746 -0.91325746 -0.91325746]]\n",
      "\n",
      " [[ 1.00697804  1.00697804  1.00697804]\n",
      "  [ 1.19306357  1.19306357  1.19306357]\n",
      "  [-0.90621837 -0.90621837 -0.90621837]\n",
      "  [ 0.9132823   0.9132823   0.9132823 ]]]\n",
      "Reversed Array:\n",
      " [[[ 0.89631253]\n",
      "  [-2.14164537]\n",
      "  [-4.98885384]\n",
      "  [ 0.19650902]]\n",
      "\n",
      " [[ 2.22853361]\n",
      "  [ 3.40270273]\n",
      "  [-3.2462993 ]\n",
      "  [ 0.50013332]]\n",
      "\n",
      " [[ 2.49721531]\n",
      "  [-0.67754259]\n",
      "  [-1.4602423 ]\n",
      "  [-4.3320352 ]]\n",
      "\n",
      " [[-1.37433992]\n",
      "  [-5.39377291]\n",
      "  [ 2.68488691]\n",
      "  [-2.73977237]]\n",
      "\n",
      " [[ 3.02093411]\n",
      "  [ 3.5791907 ]\n",
      "  [-2.71865511]\n",
      "  [ 2.7398469 ]]]\n"
     ]
    }
   ],
   "source": [
    "original = np.random.randn(5, 4, 1)\n",
    "if ( np.isscalar(original)):\n",
    "    original = np.array([original])\n",
    "print( original)\n",
    "broadcasted = np.broadcast_to(original, (5, 4, 3)) \n",
    "\n",
    "# Reverse\n",
    "reversed_array = gradient_of_broadcast_to(broadcasted, original.shape)\n",
    "print(\"Original:\\n\", original)\n",
    "print(\"Broadcasted:\\n\", broadcasted)\n",
    "print(\"Reversed Array:\\n\", reversed_array)"
   ]
  },
  {
   "cell_type": "code",
   "execution_count": null,
   "id": "f314fa9a-1a9b-4b98-b2e5-5c3a606d09bb",
   "metadata": {},
   "outputs": [],
   "source": [
    "gradient_check(ndl.broadcast_to, ndl.Tensor(np.random.randn(3, 1)), shape=(3, 3))\n",
    "    gradient_check(ndl.broadcast_to, ndl.Tensor(np.random.randn(1, 3)), shape=(3, 3))\n",
    "    gradient_check(\n",
    "        ndl.broadcast_to,\n",
    "        ndl.Tensor(\n",
    "            np.random.randn(\n",
    "                1,\n",
    "            )\n",
    "        ),\n",
    "        shape=(3, 3, 3),\n",
    "    )\n",
    "    gradient_check(ndl.broadcast_to, ndl.Tensor(np.random.randn()), shape=(3, 3, 3))\n",
    "    gradient_check(\n",
    "        ndl.broadcast_to, ndl.Tensor(np.random.randn(5, 4, 1)), shape=(5, 4, 3)\n",
    "    )"
   ]
  },
  {
   "cell_type": "code",
   "execution_count": 452,
   "id": "f848916e-e595-49d6-bc8d-1943f622e33d",
   "metadata": {},
   "outputs": [
    {
     "name": "stdout",
     "output_type": "stream",
     "text": [
      "(2, 1)\n",
      "(2, 2)\n",
      "Gradient w.r.t. Input Array:\n",
      " [[1 1]\n",
      " [2 2]]\n"
     ]
    }
   ],
   "source": [
    "import numpy as np\n",
    "\n",
    "def gradient_summation(grad_output, input_shape, axis=None, keepdims=False):\n",
    "    \"\"\"\n",
    "    Computes the gradient for a summation operation in backpropagation.\n",
    "\n",
    "    Parameters:\n",
    "        grad_output (np.ndarray): Gradient of the loss with respect to the summation result.\n",
    "        input_shape (tuple): Shape of the original input to the summation operation.\n",
    "        axis (int or tuple of ints, optional): Axis or axes along which the summation was performed.\n",
    "        keepdims (bool, optional): Whether the summation kept the reduced dimensions.\n",
    "\n",
    "    Returns:\n",
    "        np.ndarray: Gradient of the loss with respect to the input array.\n",
    "    \"\"\"\n",
    "    # If keepdims=False, expand dimensions of grad_output to match input_shape\n",
    "    if not keepdims:\n",
    "        grad_output = np.expand_dims(grad_output, axis=axis)\n",
    "\n",
    "    # Broadcast grad_output to the input shape\n",
    "    print( grad_output.shape)\n",
    "    print( input_shape)\n",
    "    grad_input = np.broadcast_to(grad_output, input_shape)\n",
    "\n",
    "    return grad_input\n",
    "\n",
    "# Example\n",
    "x = np.array([[1, 2], [3, 4]])  # Shape (2, 2)\n",
    "\n",
    "# Forward summation\n",
    "y = np.sum(x, axis=1, keepdims=False)  # Shape (2,)\n",
    "\n",
    "# Gradient of the loss w.r.t. y\n",
    "grad_output = np.array([1, 2])  # Shape (2,)\n",
    "\n",
    "# Backward: Compute gradient w.r.t. x\n",
    "grad_input = gradient_summation(grad_output, input_shape=x.shape, axis=1, keepdims=False)\n",
    "print(\"Gradient w.r.t. Input Array:\\n\", grad_input)\n"
   ]
  },
  {
   "cell_type": "code",
   "execution_count": 453,
   "id": "0b8aab6c-c0ad-4c06-992b-3c1edb8aa7d5",
   "metadata": {},
   "outputs": [],
   "source": [
    "def test_summation_backward():\n",
    "    gradient_check(ndl.summation, ndl.Tensor(np.random.randn(5, 4)), axes=(1,))\n",
    "    gradient_check(ndl.summation, ndl.Tensor(np.random.randn(5, 4)), axes=(0,))\n",
    "    gradient_check(ndl.summation, ndl.Tensor(np.random.randn(5, 4)), axes=(0, 1))\n",
    "    gradient_check(ndl.summation, ndl.Tensor(np.random.randn(5, 4, 1)), axes=(0, 1))"
   ]
  },
  {
   "cell_type": "code",
   "execution_count": 454,
   "id": "9ba5a35a-fd54-49cd-8b4f-77b920fdae68",
   "metadata": {},
   "outputs": [
    {
     "name": "stdout",
     "output_type": "stream",
     "text": [
      "(2, 1)\n",
      "(2, 2)\n",
      "Gradient w.r.t. Input Array:\n",
      " [[1 1]\n",
      " [2 2]]\n"
     ]
    }
   ],
   "source": [
    "# Example\n",
    "x = np.array( np.random.randn(2, 2))  # Shape (2, 2)\n",
    "\n",
    "# Forward summation\n",
    "y = np.sum(x, axis=1, keepdims=False)  # Shape (2,)\n",
    "\n",
    "# Gradient of the loss w.r.t. y\n",
    "grad_output = np.array([1, 2])  # Shape (2,)\n",
    "\n",
    "# Backward: Compute gradient w.r.t. x\n",
    "grad_input = gradient_summation(grad_output, input_shape=x.shape, axis=1, keepdims=False)\n",
    "print(\"Gradient w.r.t. Input Array:\\n\", grad_input)"
   ]
  },
  {
   "cell_type": "code",
   "execution_count": 459,
   "id": "69c3b11d-0d88-49c4-9237-0ca0f70b14a5",
   "metadata": {},
   "outputs": [
    {
     "name": "stdout",
     "output_type": "stream",
     "text": [
      "(2,)\n",
      "(1, 2)\n",
      "(2, 2)\n",
      "Gradient w.r.t. Input Array:\n",
      " [[1 2]\n",
      " [1 2]]\n"
     ]
    }
   ],
   "source": [
    "# Example\n",
    "x = np.array( np.random.randn(2, 2))  # Shape (2, 2)\n",
    "\n",
    "# Forward summation\n",
    "y = np.sum(x, axis=1, keepdims=False)  # Shape (2,)\n",
    "print( y.shape)\n",
    "\n",
    "# Gradient of the loss w.r.t. y\n",
    "grad_output = np.array([1, 2])  # Shape (2,)\n",
    "\n",
    "# Backward: Compute gradient w.r.t. x\n",
    "grad_input = gradient_summation(grad_output, input_shape=x.shape, axis=0, keepdims=False)\n",
    "print(\"Gradient w.r.t. Input Array:\\n\", grad_input)"
   ]
  },
  {
   "cell_type": "code",
   "execution_count": 467,
   "id": "942b5880-17b6-41ac-a1b4-4bd0768f5e9d",
   "metadata": {},
   "outputs": [
    {
     "name": "stdout",
     "output_type": "stream",
     "text": [
      "(5, 4)\n",
      "()\n",
      "(1, 1)\n",
      "(5, 4)\n",
      "Gradient w.r.t. Input Array:\n",
      " [[5 5 5 5]\n",
      " [5 5 5 5]\n",
      " [5 5 5 5]\n",
      " [5 5 5 5]\n",
      " [5 5 5 5]]\n"
     ]
    }
   ],
   "source": [
    "# Example\n",
    "x = np.array( np.random.randn(5, 4))  \n",
    "print( x.shape)\n",
    "\n",
    "# Forward summation\n",
    "y = np.sum(x, axis=tuple((0,1)), keepdims=False)  \n",
    "print( y.shape)\n",
    "\n",
    "# Gradient of the loss w.r.t. y\n",
    "grad_output = 5\n",
    "\n",
    "# Backward: Compute gradient w.r.t. x\n",
    "grad_input = gradient_summation(grad_output, input_shape=x.shape, axis=tuple((0,1)), keepdims=False)\n",
    "print(\"Gradient w.r.t. Input Array:\\n\", grad_input)"
   ]
  },
  {
   "cell_type": "code",
   "execution_count": 469,
   "id": "dcb609c7-127f-4c40-bff0-bdb0091d49f0",
   "metadata": {},
   "outputs": [
    {
     "name": "stdout",
     "output_type": "stream",
     "text": [
      "x.shape:  (5, 4, 1)\n",
      "y.shape:  (1,)\n",
      "(1, 1)\n",
      "(5, 4, 1)\n",
      "Gradient w.r.t. Input Array:\n",
      " [[[5]\n",
      "  [5]\n",
      "  [5]\n",
      "  [5]]\n",
      "\n",
      " [[5]\n",
      "  [5]\n",
      "  [5]\n",
      "  [5]]\n",
      "\n",
      " [[5]\n",
      "  [5]\n",
      "  [5]\n",
      "  [5]]\n",
      "\n",
      " [[5]\n",
      "  [5]\n",
      "  [5]\n",
      "  [5]]\n",
      "\n",
      " [[5]\n",
      "  [5]\n",
      "  [5]\n",
      "  [5]]]\n"
     ]
    }
   ],
   "source": [
    "# Example\n",
    "x = np.array( np.random.randn(5, 4, 1))  \n",
    "print( \"x.shape: \", x.shape)\n",
    "\n",
    "# Forward summation\n",
    "y = np.sum(x, axis=tuple((0,1)), keepdims=False)  \n",
    "print( \"y.shape: \", y.shape)\n",
    "\n",
    "# Gradient of the loss w.r.t. y\n",
    "grad_output = 5\n",
    "\n",
    "# Backward: Compute gradient w.r.t. x\n",
    "grad_input = gradient_summation(grad_output, input_shape=x.shape, axis=tuple((0,1)), keepdims=False)\n",
    "print(\"Gradient w.r.t. Input Array:\\n\", grad_input)"
   ]
  },
  {
   "cell_type": "code",
   "execution_count": 470,
   "id": "ae2d3618-37b2-4571-821f-ce6543d1329c",
   "metadata": {},
   "outputs": [
    {
     "name": "stdout",
     "output_type": "stream",
     "text": [
      "Input Array: [1. 2. 3. 0.]\n",
      "Output Array (z): [1. 4. 9. 0.]\n",
      "Gradient w.r.t Input (x): [2. 4. 6. 0.]\n"
     ]
    }
   ],
   "source": [
    "import numpy as np\n",
    "\n",
    "def gradient_power(x, n, grad_output):\n",
    "    \"\"\"\n",
    "    Computes the gradient for an element-wise power operation in backpropagation.\n",
    "\n",
    "    Parameters:\n",
    "        x (np.ndarray): Input array.\n",
    "        n (float or np.ndarray): Power to which each element is raised.\n",
    "        grad_output (np.ndarray): Gradient of the loss with respect to the output (z).\n",
    "\n",
    "    Returns:\n",
    "        np.ndarray: Gradient of the loss with respect to the input array (x).\n",
    "    \"\"\"\n",
    "    # Compute the gradient using the chain rule\n",
    "    grad_input = grad_output * n * np.power(x, n - 1)\n",
    "\n",
    "    # Handle cases where x == 0 and n <= 1 to avoid NaNs or undefined values\n",
    "    grad_input = np.where(x == 0, 0, grad_input)\n",
    "    \n",
    "    return grad_input\n",
    "\n",
    "# Example\n",
    "x = np.array([1.0, 2.0, 3.0, 0.0])  # Input\n",
    "n = 2  # Power\n",
    "z = np.power(x, n)  # Forward pass: z = x^n\n",
    "grad_output = np.array([1.0, 1.0, 1.0, 1.0])  # Gradient of loss w.r.t z\n",
    "\n",
    "# Backward pass\n",
    "grad_input = gradient_power(x, n, grad_output)\n",
    "print(\"Input Array:\", x)\n",
    "print(\"Output Array (z):\", z)\n",
    "print(\"Gradient w.r.t Input (x):\", grad_input)\n"
   ]
  },
  {
   "cell_type": "code",
   "execution_count": null,
   "id": "e2b3daa5-0a51-418b-8b76-f48d5332bd7d",
   "metadata": {},
   "outputs": [],
   "source": []
  }
 ],
 "metadata": {
  "kernelspec": {
   "display_name": "Python 3",
   "language": "python",
   "name": "python3"
  },
  "language_info": {
   "codemirror_mode": {
    "name": "ipython",
    "version": 3
   },
   "file_extension": ".py",
   "mimetype": "text/x-python",
   "name": "python",
   "nbconvert_exporter": "python",
   "pygments_lexer": "ipython3",
   "version": "3.11.5"
  }
 },
 "nbformat": 4,
 "nbformat_minor": 5
}
